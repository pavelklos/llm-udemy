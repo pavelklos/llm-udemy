{
 "cells": [
  {
   "cell_type": "markdown",
   "id": "d15d8294-3328-4e07-ad16-8a03e9bbfdb9",
   "metadata": {},
   "source": [
    "# Welcome to your first assignment!\n",
    "\n",
    "Instructions are below. Please give this a try, and look in the solutions folder if you get stuck (or feel free to ask me!)"
   ]
  },
  {
   "cell_type": "markdown",
   "id": "ada885d9-4d42-4d9b-97f0-74fbbbfe93a9",
   "metadata": {},
   "source": [
    "<table style=\"margin: 0; text-align: left;\">\n",
    "    <tr>\n",
    "        <td style=\"width: 150px; height: 150px; vertical-align: middle;\">\n",
    "            <img src=\"../resources.jpg\" width=\"150\" height=\"150\" style=\"display: block;\" />\n",
    "        </td>\n",
    "        <td>\n",
    "            <h2 style=\"color:#f71;\">Just before we get to the assignment --</h2>\n",
    "            <span style=\"color:#f71;\">I thought I'd take a second to point you at this page of useful resources for the course. This includes links to all the slides.<br/>\n",
    "            <a href=\"https://edwarddonner.com/2024/11/13/llm-engineering-resources/\">https://edwarddonner.com/2024/11/13/llm-engineering-resources/</a><br/>\n",
    "            Please keep this bookmarked, and I'll continue to add more useful links there over time.\n",
    "            </span>\n",
    "        </td>\n",
    "    </tr>\n",
    "</table>"
   ]
  },
  {
   "cell_type": "markdown",
   "id": "6e9fa1fc-eac5-4d1d-9be4-541b3f2b3458",
   "metadata": {},
   "source": [
    "# HOMEWORK EXERCISE ASSIGNMENT\n",
    "\n",
    "Upgrade the day 1 project to summarize a webpage to use an Open Source model running locally via Ollama rather than OpenAI\n",
    "\n",
    "You'll be able to use this technique for all subsequent projects if you'd prefer not to use paid APIs.\n",
    "\n",
    "**Benefits:**\n",
    "1. No API charges - open-source\n",
    "2. Data doesn't leave your box\n",
    "\n",
    "**Disadvantages:**\n",
    "1. Significantly less power than Frontier Model\n",
    "\n",
    "## Recap on installation of Ollama\n",
    "\n",
    "Simply visit [ollama.com](https://ollama.com) and install!\n",
    "\n",
    "Once complete, the ollama server should already be running locally.  \n",
    "If you visit:  \n",
    "[http://localhost:11434/](http://localhost:11434/)\n",
    "\n",
    "You should see the message `Ollama is running`.  \n",
    "\n",
    "If not, bring up a new Terminal (Mac) or Powershell (Windows) and enter `ollama serve`  \n",
    "And in another Terminal (Mac) or Powershell (Windows), enter `ollama pull llama3.2`  \n",
    "Then try [http://localhost:11434/](http://localhost:11434/) again.\n",
    "\n",
    "If Ollama is slow on your machine, try using `llama3.2:1b` as an alternative. Run `ollama pull llama3.2:1b` from a Terminal or Powershell, and change the code below from `MODEL = \"llama3.2\"` to `MODEL = \"llama3.2:1b\"`"
   ]
  },
  {
   "cell_type": "code",
   "execution_count": 1,
   "id": "4e2a9393-7767-488e-a8bf-27c12dca35bd",
   "metadata": {},
   "outputs": [],
   "source": [
    "# imports\n",
    "\n",
    "import requests\n",
    "from bs4 import BeautifulSoup\n",
    "from IPython.display import Markdown, display"
   ]
  },
  {
   "cell_type": "code",
   "execution_count": 2,
   "id": "29ddd15d-a3c5-4f4e-a678-873f56162724",
   "metadata": {},
   "outputs": [],
   "source": [
    "# Constants\n",
    "\n",
    "OLLAMA_API = \"http://localhost:11434/api/chat\"\n",
    "HEADERS = {\"Content-Type\": \"application/json\"}\n",
    "MODEL = \"llama3.2\"\n",
    "# MODEL = \"llama3.2:1b\""
   ]
  },
  {
   "cell_type": "code",
   "execution_count": 3,
   "id": "dac0a679-599c-441f-9bf2-ddc73d35b940",
   "metadata": {},
   "outputs": [],
   "source": [
    "# Create a messages list using the same format that we used for OpenAI\n",
    "\n",
    "messages = [\n",
    "    {\"role\": \"user\", \"content\": \"Describe some of the business applications of Generative AI\"}\n",
    "]"
   ]
  },
  {
   "cell_type": "code",
   "execution_count": 4,
   "id": "7bb9c624-14f0-4945-a719-8ddb64f66f47",
   "metadata": {},
   "outputs": [],
   "source": [
    "payload = {\n",
    "        \"model\": MODEL,\n",
    "        \"messages\": messages,\n",
    "        \"stream\": False\n",
    "    }"
   ]
  },
  {
   "cell_type": "code",
   "execution_count": 5,
   "id": "42b9f644-522d-4e05-a691-56e7658c0ea9",
   "metadata": {},
   "outputs": [
    {
     "name": "stdout",
     "output_type": "stream",
     "text": [
      "Generative AI has numerous business applications across various industries, including:\n",
      "\n",
      "1. **Content Creation**: AI can generate high-quality content such as images, videos, music, and text. This can be used for:\n",
      " * Creating social media graphics and ads\n",
      " * Generating product descriptions and sales copy\n",
      " * Producing video thumbnails and banners\n",
      " * Composing music and sound effects for videos and podcasts\n",
      "2. **Marketing Automation**: Generative AI can help automate marketing tasks such as:\n",
      " * Personalized email campaigns and lead generation\n",
      " * Chatbot conversations and customer support\n",
      " * Predictive analytics and data-driven decision making\n",
      "3. **Data Analysis and Visualization**: AI can analyze large datasets and generate insights and visualizations to help businesses:\n",
      " * Identify trends and patterns in customer behavior\n",
      " * Develop predictive models for sales forecasting and revenue optimization\n",
      " * Create interactive dashboards and reports for stakeholder analysis\n",
      "4. **Design and Prototyping**: Generative AI can aid in design and prototyping by:\n",
      " * Generating 3D models and product designs\n",
      " * Creating prototypes for product testing and validation\n",
      " * Optimizing product layouts and workflows\n",
      "5. **Customer Service and Support**: AI-powered chatbots and virtual assistants can help businesses provide:\n",
      " * 24/7 customer support and technical assistance\n",
      " * Personalized product recommendations and order tracking\n",
      " * Sentiment analysis and sentiment-based decision making\n",
      "6. **Supply Chain Management**: Generative AI can analyze data from various sources to predict demand, optimize inventory levels, and improve supply chain efficiency.\n",
      "7. **Product Development**: AI can aid in product development by:\n",
      " * Generating design concepts and prototypes\n",
      " * Predicting customer preferences and behavior\n",
      " * Optimizing product features and user experience\n",
      "8. **Financial Analysis and Planning**: Generative AI can analyze financial data to identify trends and opportunities, helping businesses make informed investment decisions.\n",
      "9. **Predictive Maintenance**: AI-powered predictive maintenance can help businesses predict equipment failures and reduce downtime, improving overall operational efficiency.\n",
      "10. **Cybersecurity**: Generative AI can be used to detect and respond to cyber threats by analyzing network traffic patterns and identifying anomalies.\n",
      "\n",
      "These are just a few examples of the many business applications of Generative AI. As the technology continues to evolve, we can expect even more innovative solutions to emerge across various industries.\n"
     ]
    }
   ],
   "source": [
    "response = requests.post(OLLAMA_API, json=payload, headers=HEADERS)\n",
    "print(response.json()['message']['content'])"
   ]
  },
  {
   "cell_type": "markdown",
   "id": "6a021f13-d6a1-4b96-8e18-4eae49d876fe",
   "metadata": {},
   "source": [
    "# Introducing the ollama package\n",
    "\n",
    "And now we'll do the same thing, but using the elegant ollama python package instead of a direct HTTP call.\n",
    "\n",
    "Under the hood, it's making the same call as above to the ollama server running at localhost:11434"
   ]
  },
  {
   "cell_type": "code",
   "execution_count": 6,
   "id": "7745b9c4-57dc-4867-9180-61fa5db55eb8",
   "metadata": {},
   "outputs": [
    {
     "name": "stdout",
     "output_type": "stream",
     "text": [
      "Generative AI has numerous business applications across various industries, including:\n",
      "\n",
      "1. **Content Generation**: AI can be used to generate high-quality content such as blog posts, social media posts, product descriptions, and more. This can save time and resources for content creators and marketers.\n",
      "2. **Product Design**: Generative AI can help designers create new product concepts, logos, and packaging designs by generating 3D models, textures, and materials.\n",
      "3. **Image and Video Editing**: AI-powered editing tools can automatically edit images and videos to enhance their quality, consistency, and style.\n",
      "4. **Chatbots and Virtual Assistants**: Generative AI can be used to create more human-like chatbots and virtual assistants that can understand natural language and respond accordingly.\n",
      "5. **Personalized Recommendations**: AI can analyze customer data and behavior to provide personalized product recommendations, improving customer engagement and conversion rates.\n",
      "6. **Predictive Maintenance**: Generative AI can help predict equipment failures by analyzing sensor data and predicting when maintenance is required, reducing downtime and increasing efficiency.\n",
      "7. **Marketing Campaigns**: AI can be used to generate targeted marketing campaigns based on customer behavior, preferences, and demographics.\n",
      "8. **Data Analysis**: Generative AI can analyze large datasets to identify patterns, trends, and insights that may not be apparent through traditional data analysis methods.\n",
      "9. **Customer Service**: AI-powered chatbots and virtual assistants can help provide 24/7 customer support, answering frequently asked questions and routing complex issues to human representatives.\n",
      "10. **Financial Modeling**: Generative AI can help financial analysts create more accurate models of future market trends and behavior, allowing for better investment decisions.\n",
      "11. **Supply Chain Optimization**: AI can analyze supply chain data to optimize inventory levels, shipping routes, and delivery times, reducing costs and improving efficiency.\n",
      "12. **Cybersecurity**: Generative AI can help detect and respond to cyber threats by analyzing network traffic patterns and identifying potential vulnerabilities.\n",
      "13. **Healthcare**: AI can be used to generate personalized treatment plans for patients based on their medical history, genetic profiles, and other factors.\n",
      "14. **Education**: Generative AI can create personalized learning experiences for students, adapting to their individual learning styles and pace.\n",
      "15. **Creative Writing**: AI can help writers generate ideas, develop characters, and even write entire stories, freeing up time for human writers to focus on editing and refining.\n",
      "\n",
      "These are just a few examples of the many business applications of Generative AI. As the technology continues to evolve, we can expect to see even more innovative uses in the years to come.\n"
     ]
    }
   ],
   "source": [
    "import ollama\n",
    "\n",
    "response = ollama.chat(model=MODEL, messages=messages)\n",
    "print(response['message']['content'])"
   ]
  },
  {
   "cell_type": "markdown",
   "id": "1622d9bb-5c68-4d4e-9ca4-b492c751f898",
   "metadata": {},
   "source": [
    "# NOW the exercise for you\n",
    "\n",
    "Take the code from day1 and incorporate it here, to build a website summarizer that uses Llama 3.2 running locally instead of OpenAI"
   ]
  },
  {
   "cell_type": "markdown",
   "id": "ecf25234-af91-4f96-9e75-1d8d231aa95d",
   "metadata": {},
   "source": [
    "# pavelklos"
   ]
  }
 ],
 "metadata": {
  "kernelspec": {
   "display_name": "Python 3 (ipykernel)",
   "language": "python",
   "name": "python3"
  },
  "language_info": {
   "codemirror_mode": {
    "name": "ipython",
    "version": 3
   },
   "file_extension": ".py",
   "mimetype": "text/x-python",
   "name": "python",
   "nbconvert_exporter": "python",
   "pygments_lexer": "ipython3",
   "version": "3.11.10"
  }
 },
 "nbformat": 4,
 "nbformat_minor": 5
}
